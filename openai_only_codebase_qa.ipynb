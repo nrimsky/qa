{
  "cells": [
    {
      "cell_type": "markdown",
      "metadata": {
        "id": "view-in-github",
        "colab_type": "text"
      },
      "source": [
        "<a href=\"https://colab.research.google.com/github/nrimsky/qa/blob/main/openai_only_codebase_qa.ipynb\" target=\"_parent\"><img src=\"https://colab.research.google.com/assets/colab-badge.svg\" alt=\"Open In Colab\"/></a>"
      ]
    },
    {
      "cell_type": "code",
      "execution_count": 10,
      "metadata": {
        "id": "LaEezUGloiTq"
      },
      "outputs": [],
      "source": [
        "%%capture\n",
        "!pip install -U faiss-cpu langchain openai tiktoken"
      ]
    },
    {
      "cell_type": "code",
      "execution_count": 15,
      "metadata": {
        "id": "4gWbPilroWZN"
      },
      "outputs": [],
      "source": [
        "import os\n",
        "import requests\n",
        "import shutil\n",
        "import tarfile\n",
        "import re\n",
        "from langchain.vectorstores import FAISS\n",
        "from langchain.chains import RetrievalQA, RetrievalQAWithSourcesChain\n",
        "from langchain.chat_models import ChatOpenAI\n",
        "from langchain.prompts.chat import (\n",
        "    ChatPromptTemplate,\n",
        "    SystemMessagePromptTemplate,\n",
        "    HumanMessagePromptTemplate,\n",
        ")\n",
        "from langchain.embeddings import OpenAIEmbeddings\n",
        "import torch\n",
        "import os\n",
        "import requests\n",
        "import os\n",
        "import base64\n",
        "import shutil\n",
        "from langchain.text_splitter import RecursiveCharacterTextSplitter\n",
        "import textwrap\n",
        "from google.colab import drive\n",
        "from langchain.llms import OpenAI\n",
        "from langchain.embeddings import OpenAIEmbeddings\n",
        "from langchain.chains import LLMChain, HypotheticalDocumentEmbedder\n",
        "from langchain.prompts import PromptTemplate\n"
      ]
    },
    {
      "cell_type": "code",
      "execution_count": 3,
      "metadata": {
        "colab": {
          "base_uri": "https://localhost:8080/"
        },
        "id": "RzUBe2A1DCpq",
        "outputId": "ee733884-b011-499d-ebfc-b1067f397494"
      },
      "outputs": [
        {
          "output_type": "stream",
          "name": "stdout",
          "text": [
            "Mounted at /content/drive\n"
          ]
        }
      ],
      "source": [
        "drive.mount('/content/drive')"
      ]
    },
    {
      "cell_type": "code",
      "source": [
        "def print_wrapped(text):\n",
        "  wrapper = textwrap.TextWrapper(width=100)\n",
        "  word_list = wrapper.wrap(text=text)\n",
        "\n",
        "  for element in word_list:\n",
        "      print(element)"
      ],
      "metadata": {
        "id": "AdfRF9TtOKsm"
      },
      "execution_count": 4,
      "outputs": []
    },
    {
      "cell_type": "code",
      "execution_count": null,
      "metadata": {
        "id": "kZ2_Q9fHQ9LV"
      },
      "outputs": [],
      "source": [
        "os.environ['OPENAI_API_KEY'] = input(\"Paste OpenAI API Key: \")"
      ]
    },
    {
      "cell_type": "code",
      "execution_count": 6,
      "metadata": {
        "id": "ehNQW6OgCo6N"
      },
      "outputs": [],
      "source": [
        "def get_source_from_github(repo_path):\n",
        "    api_url = f'https://api.github.com/repos/{repo_path}/contents'\n",
        "    drive_path = '/content/drive/My Drive/'\n",
        "    repo_dir = os.path.join(drive_path, repo_path.replace('/', '_')) # replacing '/' with '_' as '/' is not allowed in directory names\n",
        "    file_contents = {}\n",
        "    total_size = 0\n",
        "    if not os.path.exists(repo_dir) or not os.listdir(repo_dir): # if the directory does not exist or is empty\n",
        "        file_contents, total_size = download_from_github(api_url, repo_dir)\n",
        "    else:\n",
        "        for dirpath, dirnames, filenames in os.walk(repo_dir):\n",
        "            for filename in filenames:\n",
        "                filepath = os.path.join(dirpath, filename)\n",
        "                try:\n",
        "                    with open(filepath, 'r') as f:\n",
        "                        file_content = f.read()\n",
        "                        file_contents[filepath] = file_content\n",
        "                        total_size += len(file_content)\n",
        "                except UnicodeDecodeError:\n",
        "                    pass\n",
        "    if total_size <= 1000:\n",
        "        print(f\"Failed to extract enough source data - file content size = {total_size} chars\")\n",
        "    return file_contents\n",
        "\n",
        "def download_from_github(api_url, local_dir):\n",
        "    file_contents = {}\n",
        "    total_size = 0\n",
        "    response = requests.get(api_url)\n",
        "    if response.status_code == 200:\n",
        "        files = response.json()\n",
        "        for file in files:\n",
        "            if file['type'] == 'file':\n",
        "                file_response = requests.get(file['download_url'])\n",
        "                extension = file['download_url'].split(\".\")[-1]\n",
        "                if file_response.status_code == 200:\n",
        "                    local_file_path = os.path.join(local_dir, file['path'])\n",
        "                    os.makedirs(os.path.dirname(local_file_path), exist_ok=True)\n",
        "                    with open(local_file_path, 'wb') as f:\n",
        "                        f.write(file_response.content)\n",
        "                    try:\n",
        "                        with open(local_file_path, 'r') as f:\n",
        "                            file_content = f.read()\n",
        "                            file_contents[local_file_path] = file_content\n",
        "                            total_size += len(file_content)\n",
        "                    except UnicodeDecodeError:\n",
        "                        continue\n",
        "            elif file['type'] == 'dir':\n",
        "                sub_dir_contents, sub_dir_size = download_from_github(file['url'], local_dir)\n",
        "                file_contents.update(sub_dir_contents)\n",
        "                total_size += sub_dir_size\n",
        "    else:\n",
        "        print(f'Error: received status code {response.status_code} from GitHub.')\n",
        "    return file_contents, total_size"
      ]
    },
    {
      "cell_type": "code",
      "execution_count": 7,
      "metadata": {
        "id": "Z4ZDibGvJPNS"
      },
      "outputs": [],
      "source": [
        "def extract_all_text_chunks(repo_path, chunk_size = 500):\n",
        "    text_splitter = RecursiveCharacterTextSplitter(\n",
        "      chunk_size = chunk_size,\n",
        "      chunk_overlap  = 0,\n",
        "      length_function = len,\n",
        "    )\n",
        "    all_files = get_source_from_github(repo_path)\n",
        "    documents = text_splitter.create_documents(texts = list(all_files.values()), metadatas = [{\"source\": p} for p in list(all_files.keys())])\n",
        "    return documents\n"
      ]
    },
    {
      "cell_type": "code",
      "execution_count": 13,
      "metadata": {
        "id": "FgMSapgKjyOT"
      },
      "outputs": [],
      "source": [
        "def cli_ask_questions(repo_path):\n",
        "    chunks = extract_all_text_chunks(repo_path)\n",
        "    base_embeddings = OpenAIEmbeddings()\n",
        "    hyde_prompt_template = \"\"\"Generate a hypothetical code snippet to answer this question\n",
        "    Question: {question}\n",
        "    Snippet:\"\"\"\n",
        "    prompt = PromptTemplate(input_variables=[\"question\"], template=hyde_prompt_template)\n",
        "    llm_chain = LLMChain(llm=OpenAI(), prompt=prompt)\n",
        "    embeddings = HypotheticalDocumentEmbedder(llm_chain=llm_chain, base_embeddings=base_embeddings)\n",
        "    vectorstore = FAISS.from_documents(chunks, embeddings)\n",
        "    chain_type_kwargs = {\n",
        "        \"prompt\": ChatPromptTemplate.from_messages([\n",
        "            SystemMessagePromptTemplate.from_template(\n",
        "                \"You are a helpful assistant that answers questions about a codebase given some snippets from the codebase. Whenever useful and possible, you directly quote the code and cite your sources.\"\n",
        "            ),\n",
        "            HumanMessagePromptTemplate.from_template(\"\"\"\n",
        "                Some relevant code snippets:\n",
        "\n",
        "                {context}\n",
        "\n",
        "                Question: {question}\n",
        "                Answer:\n",
        "            \"\"\")\n",
        "        ]),\n",
        "        \"document_variable_name\": \"context\"\n",
        "    }\n",
        "\n",
        "    qa = RetrievalQAWithSourcesChain.from_chain_type(\n",
        "        llm=ChatOpenAI(model_name='gpt-3.5-turbo'),\n",
        "        chain_type=\"stuff\",\n",
        "        retriever=vectorstore.as_retriever(),\n",
        "        chain_type_kwargs=chain_type_kwargs\n",
        "    )\n",
        "\n",
        "    while True:\n",
        "        question = input(\"Enter your question about the codebase (or 'quit' to stop): \")\n",
        "        if question.lower() == 'quit':\n",
        "            break\n",
        "        else:\n",
        "            try:\n",
        "                response = qa(question)\n",
        "                print_wrapped(question)\n",
        "                print_wrapped(response['answer'])\n",
        "            except Exception as e:\n",
        "                print(\"An error occurred while processing your question.\")\n",
        "                print(str(e))\n"
      ]
    },
    {
      "cell_type": "code",
      "execution_count": null,
      "metadata": {
        "id": "VQD7dgfMoeLn"
      },
      "outputs": [],
      "source": [
        "repo_path = input(\"Enter the relative path of the GitHub repo you want to ask questions about: \")\n",
        "cli_ask_questions(repo_path)"
      ]
    },
    {
      "cell_type": "code",
      "execution_count": null,
      "metadata": {
        "id": "R-xwm6DDpLw9"
      },
      "outputs": [],
      "source": []
    }
  ],
  "metadata": {
    "accelerator": "GPU",
    "colab": {
      "machine_shape": "hm",
      "provenance": [],
      "mount_file_id": "16zTYk6ftXLExP8ywmM9Zk3y-hqFiMPG2",
      "authorship_tag": "ABX9TyME+LSuiGzVFg5i188/7C9t",
      "include_colab_link": true
    },
    "gpuClass": "standard",
    "kernelspec": {
      "display_name": "Python 3",
      "name": "python3"
    },
    "language_info": {
      "name": "python"
    }
  },
  "nbformat": 4,
  "nbformat_minor": 0
}